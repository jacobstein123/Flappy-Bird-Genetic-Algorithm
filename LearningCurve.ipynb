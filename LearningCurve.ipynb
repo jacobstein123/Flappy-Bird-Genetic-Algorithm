{
 "cells": [
  {
   "cell_type": "code",
   "execution_count": 1,
   "metadata": {
    "collapsed": false
   },
   "outputs": [],
   "source": [
    "with open(\"output-10.31.15.txt\",'r') as output:\n",
    "    a = output.read()"
   ]
  },
  {
   "cell_type": "code",
   "execution_count": 2,
   "metadata": {
    "collapsed": false
   },
   "outputs": [],
   "source": [
    "b = a.split('\\n\\n')"
   ]
  },
  {
   "cell_type": "code",
   "execution_count": 3,
   "metadata": {
    "collapsed": false
   },
   "outputs": [],
   "source": [
    "import re\n",
    "averages = [re.search('(\\d+)$',b[i]).group() for i in xrange(len(b))]"
   ]
  },
  {
   "cell_type": "code",
   "execution_count": 4,
   "metadata": {
    "collapsed": false
   },
   "outputs": [],
   "source": [
    "from numpy import *\n",
    "from matplotlib.pyplot import *\n",
    "\n",
    "y = np.array([float(i) for i in averages])\n",
    "\n",
    "x = np.array([float(i) for i in range(len(y))])\n",
    "\n",
    "coefficients = polyfit(x, y,1)\n",
    "polynomial = poly1d(coefficients)\n",
    "xs = arange(-2.2, 2.6, 0.1)\n",
    "ys = polynomial(xs)\n",
    "\n",
    "plot(x, y, '.')\n",
    "plot(xs, ys)\n",
    "ylabel('y')\n",
    "xlabel('x')\n",
    "show()"
   ]
  },
  {
   "cell_type": "code",
   "execution_count": 25,
   "metadata": {
    "collapsed": false
   },
   "outputs": [
    {
     "name": "stderr",
     "output_type": "stream",
     "text": [
      "C:\\Python27\\lib\\site-packages\\numpy\\lib\\polynomial.py:588: RankWarning: Polyfit may be poorly conditioned\n",
      "  warnings.warn(msg, RankWarning)\n"
     ]
    }
   ],
   "source": [
    "import matplotlib.pyplot as plt\n",
    "z = np.polyfit(x, y, 2)\n",
    "p = np.poly1d(z)\n",
    "p30 = np.poly1d(np.polyfit(x, y, 30))\n",
    "xp = np.linspace(1, 600, len(averages))\n",
    "_ = plt.plot(x, y, '.', xp, p(xp), '-')\n",
    "plt.show()"
   ]
  }
 ],
 "metadata": {
  "kernelspec": {
   "display_name": "Python 2",
   "language": "python",
   "name": "python2"
  },
  "language_info": {
   "codemirror_mode": {
    "name": "ipython",
    "version": 2
   },
   "file_extension": ".py",
   "mimetype": "text/x-python",
   "name": "python",
   "nbconvert_exporter": "python",
   "pygments_lexer": "ipython2",
   "version": "2.7.10"
  }
 },
 "nbformat": 4,
 "nbformat_minor": 0
}
